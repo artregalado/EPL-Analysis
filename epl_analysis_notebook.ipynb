{
 "cells": [
  {
   "cell_type": "code",
   "execution_count": 1,
   "metadata": {
    "pycharm": {
     "name": "#%%\n"
    }
   },
   "outputs": [],
   "source": [
    "# Load required libraries and results from economic analysis functions\n",
    "import pandas as pd\n",
    "import numpy as np\n",
    "import matplotlib.pyplot as plt\n",
    "import matplotlib as mpl\n",
    "from matplotlib import font_manager"
   ]
  },
  {
   "cell_type": "code",
   "execution_count": 2,
   "metadata": {
    "pycharm": {
     "name": "#%%\n"
    }
   },
   "outputs": [],
   "source": [
    "from modules.modelling_assumptions import field_10m_assum\n",
    "from modules.modelling_assumptions import field_50m_assum\n",
    "from modules.modelling_assumptions import field_100m_assum\n",
    "from modules.modelling_assumptions import market_assumptions\n",
    "from modules.modelling_assumptions import tax_assumptions\n",
    "from modules.modelling_assumptions import tax_assumptions_autumn_epl\n",
    "from modules.modelling_assumptions import tax_assumptions_delayed_autumn_epl\n",
    "from economic_analysis_class import calculate_economic_results\n",
    "from economic_analysis_class import calculate_cashflow_results"
   ]
  },
  {
   "cell_type": "code",
   "execution_count": null,
   "outputs": [],
   "source": [
    "# Add every font at the specified location\n",
    "font_dir = [\"C:\\\\Users\\\\artre\\\\Downloads\\\\Lato\"]\n",
    "for font in font_manager.findSystemFonts(font_dir):\n",
    "    font_manager.fontManager.addfont(font)\n",
    "\n",
    "font_dir = [\"C:\\\\Users\\\\artre\\\\Downloads\\\\Roboto\"]\n",
    "for font in font_manager.findSystemFonts(font_dir):\n",
    "    font_manager.fontManager.addfont(font)"
   ],
   "metadata": {
    "collapsed": false,
    "pycharm": {
     "name": "#%%\n"
    }
   }
  },
  {
   "cell_type": "code",
   "execution_count": null,
   "outputs": [],
   "source": [
    "# Plot parameters\n",
    "mpl.rcParams['axes.titlesize'] = 14\n",
    "mpl.rcParams['xtick.labelsize'] = 11\n",
    "mpl.rcParams['xtick.labelcolor'] = 'grey'\n",
    "mpl.rcParams['xtick.color'] = 'grey'\n",
    "mpl.rcParams['ytick.labelcolor'] = 'grey'\n",
    "mpl.rcParams['ytick.color'] = 'grey'\n",
    "mpl.rcParams['axes.labelcolor'] = 'grey'\n",
    "mpl.rcParams['axes.linewidth'] = 0.5\n",
    "mpl.rcParams['axes.edgecolor'] = 'grey'\n",
    "mpl.rcParams['legend.fontsize'] = 8\n",
    "mpl.rcParams['font.family'] = 'Lato'\n",
    "mpl.rcParams['axes.spines.top'] = False\n",
    "mpl.rcParams['axes.spines.right'] = False"
   ],
   "metadata": {
    "collapsed": false,
    "pycharm": {
     "name": "#%%\n"
    }
   }
  },
  {
   "cell_type": "code",
   "execution_count": null,
   "outputs": [],
   "source": [
    "# %% Get results for analysis and plotting\n",
    "\n",
    "# Important assumptions that need to be set out in the paper.\n",
    "# The original EPL began May 2022 and was to finish Dec 2025, the new EPL extends until March 2028\n",
    "# For simplicty and because the model runs in years I assum orginal EPL lasts 4 years (2022-2025) assuming it\n",
    "# includes all of 2022.\n",
    "# For the new EPL it is 6 years, only two are added (2022-2027) this is to avid adjustments to first quarters of 2022\n",
    "# and 2028; the net impact will not be meaningful as we are assume 5 more months in 2022 and 3 less of 2028.\n",
    "# See EPL factsheet for more details\n",
    "# https://www.gov.uk/government/publications/changes-to-the-energy-oil-and-gas-profits-levy/energy-oil-and-gas-profits-levy\n",
    "\n",
    "field_assumptions = field_10m_assum\n",
    "results_small_field = calculate_economic_results(field_assumptions=field_assumptions,\n",
    "                                                 market_assumptions=market_assumptions,\n",
    "                                                 tax_assumptions=tax_assumptions,\n",
    "                                                 tax_assumptions_autumn_epl=tax_assumptions_autumn_epl,\n",
    "                                                 tax_assumptions_delayed_autumn_epl=tax_assumptions_delayed_autumn_epl)\n",
    "\n",
    "field_assumptions = field_50m_assum\n",
    "results_medium_field = calculate_economic_results(field_assumptions=field_assumptions,\n",
    "                                                  market_assumptions=market_assumptions,\n",
    "                                                  tax_assumptions=tax_assumptions,\n",
    "                                                  tax_assumptions_autumn_epl=tax_assumptions_autumn_epl,\n",
    "                                                  tax_assumptions_delayed_autumn_epl=tax_assumptions_delayed_autumn_epl)\n",
    "\n",
    "field_assumptions = field_100m_assum\n",
    "results_large_field = calculate_economic_results(field_assumptions=field_assumptions,\n",
    "                                                 market_assumptions=market_assumptions,\n",
    "                                                 tax_assumptions=tax_assumptions,\n",
    "                                                 tax_assumptions_autumn_epl=tax_assumptions_autumn_epl,\n",
    "                                                 tax_assumptions_delayed_autumn_epl=tax_assumptions_delayed_autumn_epl)\n",
    "\n",
    "field_assumptions = field_10m_assum\n",
    "cashflow_small_field = calculate_cashflow_results(field_assumptions=field_assumptions,\n",
    "                                                  market_assumptions=market_assumptions,\n",
    "                                                  tax_assumptions=tax_assumptions,\n",
    "                                                  tax_assumptions_autumn_epl=tax_assumptions_autumn_epl,\n",
    "                                                  tax_assumptions_delayed_autumn_epl=tax_assumptions_delayed_autumn_epl)\n",
    "\n",
    "field_assumptions = field_50m_assum\n",
    "cashflow_medium_field = calculate_cashflow_results(field_assumptions=field_assumptions,\n",
    "                                                   market_assumptions=market_assumptions,\n",
    "                                                   tax_assumptions=tax_assumptions,\n",
    "                                                   tax_assumptions_autumn_epl=tax_assumptions_autumn_epl,\n",
    "                                                   tax_assumptions_delayed_autumn_epl=tax_assumptions_delayed_autumn_epl)\n",
    "\n",
    "field_assumptions = field_100m_assum\n",
    "cashflow_large_field = calculate_cashflow_results(field_assumptions=field_assumptions,\n",
    "                                                  market_assumptions=market_assumptions,\n",
    "                                                  tax_assumptions=tax_assumptions,\n",
    "                                                  tax_assumptions_autumn_epl=tax_assumptions_autumn_epl,\n",
    "                                                  tax_assumptions_delayed_autumn_epl=tax_assumptions_delayed_autumn_epl)"
   ],
   "metadata": {
    "collapsed": false,
    "pycharm": {
     "name": "#%%\n"
    }
   }
  },
  {
   "cell_type": "code",
   "execution_count": null,
   "outputs": [],
   "source": [
    "# Plot cashflows and check \n",
    "cashflow_medium_field.keys()"
   ],
   "metadata": {
    "collapsed": false,
    "pycharm": {
     "name": "#%%\n"
    }
   }
  },
  {
   "cell_type": "code",
   "execution_count": null,
   "outputs": [],
   "source": [
    "pre_tax = cashflow_medium_field['Pre tax'].ncf\n",
    "tax1 = cashflow_medium_field['Post tax no EPL other income'].post_tax_ncf\n",
    "tax2 = cashflow_medium_field['Post tax EPL summer other income'].post_tax_ncf\n",
    "tax3 = cashflow_medium_field['Post tax EPL autumn other income'].post_tax_ncf\n",
    "tax4 = cashflow_medium_field['Post tax EPL autumn 2019 start other income'].post_tax_ncf\n"
   ],
   "metadata": {
    "collapsed": false,
    "pycharm": {
     "name": "#%%\n"
    }
   }
  },
  {
   "cell_type": "code",
   "execution_count": null,
   "outputs": [],
   "source": [
    "fig, ax =plt.subplots(figsize=(5.8, 3.5), dpi=600, tight_layout=True)\n",
    "ax.plot(pre_tax, label='Pre tax', c='black')\n",
    "ax.plot(tax1, label=\"Permanent tax system\", c='black', ls=':')\n",
    "ax.plot(tax2, label='Summer EPL', c='black', ls='--')\n",
    "ax.plot(tax3, label='Autumn EPL', c='black', ls='-.')\n",
    "\n",
    "\n",
    "ax.set_title(\"Medium size field impact of EPl on cashflows:\\nTax case where there is other income available\", pad=30, loc='left')\n",
    "ax.set_xlabel(\"Project year\")\n",
    "ax.set_ylabel(\"Million £\")\n",
    "\n",
    "x_labels = np.arange(22, 37, 1)\n",
    "x_labels = [str(\"'\" + str(year)) for year in x_labels]\n",
    "plt.xticks(np.arange(0, 15), x_labels)\n",
    "\n",
    "ax.text(3, 40, \"EPL autumn cashflow\", fontsize=8)\n",
    "\n",
    "ax.legend(frameon=False)\n",
    "plt.show()\n"
   ],
   "metadata": {
    "collapsed": false,
    "pycharm": {
     "name": "#%%\n"
    }
   }
  }
 ],
 "metadata": {
  "kernelspec": {
   "display_name": "Python 3 (ipykernel)",
   "language": "python",
   "name": "python3"
  },
  "language_info": {
   "codemirror_mode": {
    "name": "ipython",
    "version": 3
   },
   "file_extension": ".py",
   "mimetype": "text/x-python",
   "name": "python",
   "nbconvert_exporter": "python",
   "pygments_lexer": "ipython3",
   "version": "3.10.5"
  }
 },
 "nbformat": 4,
 "nbformat_minor": 1
}